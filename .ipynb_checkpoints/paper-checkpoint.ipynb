{
 "cells": [
  {
   "cell_type": "markdown",
   "metadata": {},
   "source": [
    "# Calculus for Income Taxation"
   ]
  },
  {
   "cell_type": "markdown",
   "metadata": {},
   "source": [
    "## *Matthew Q. Knipfer*"
   ]
  },
  {
   "cell_type": "markdown",
   "metadata": {},
   "source": [
    "---\n",
    "---"
   ]
  },
  {
   "cell_type": "markdown",
   "metadata": {},
   "source": [
    "## Introduction"
   ]
  },
  {
   "cell_type": "code",
   "execution_count": null,
   "metadata": {},
   "outputs": [],
   "source": []
  },
  {
   "cell_type": "markdown",
   "metadata": {},
   "source": [
    "---"
   ]
  },
  {
   "cell_type": "markdown",
   "metadata": {},
   "source": [
    "## Model"
   ]
  },
  {
   "cell_type": "code",
   "execution_count": 25,
   "metadata": {},
   "outputs": [
    {
     "data": {
      "text/latex": [
       "$$f(x) = \\alpha \\tan^{-1}(\\beta x + \\gamma) + \\delta$$"
      ],
      "text/plain": [
       "<IPython.core.display.Math object>"
      ]
     },
     "execution_count": 25,
     "metadata": {},
     "output_type": "execute_result"
    }
   ],
   "source": [
    "Math(r'f(x) = \\alpha \\tan^{-1}(\\beta x + \\gamma) + \\delta')"
   ]
  },
  {
   "cell_type": "code",
   "execution_count": 27,
   "metadata": {},
   "outputs": [
    {
     "data": {
      "text/latex": [
       "$$F(x) = \\int \\alpha \\tan^{-1}(\\beta x + \\gamma) + \\delta \\,dx$$"
      ],
      "text/plain": [
       "<IPython.core.display.Math object>"
      ]
     },
     "execution_count": 27,
     "metadata": {},
     "output_type": "execute_result"
    }
   ],
   "source": [
    "Math(r'F(x) = \\int \\alpha \\tan^{-1}(\\beta x + \\gamma) + \\delta \\,dx')"
   ]
  },
  {
   "cell_type": "code",
   "execution_count": 40,
   "metadata": {},
   "outputs": [
    {
     "data": {
      "text/latex": [
       "$$F(x) = - \\frac{\\alpha \\log(\\beta^2 x^2 + 2 \\beta \\gamma x + \\gamma^2 + 1)}{2\\beta} + \\frac{\\alpha (\\beta x + \\gamma) \\tan^{-1} (\\beta x + \\gamma)}{\\beta} + \\delta x + C$$"
      ],
      "text/plain": [
       "<IPython.core.display.Math object>"
      ]
     },
     "execution_count": 40,
     "metadata": {},
     "output_type": "execute_result"
    }
   ],
   "source": [
    "Math(r'F(x) = - \\frac{\\alpha \\log(\\beta^2 x^2 + 2 \\beta \\gamma x + \\gamma^2 + 1)}{2\\beta} + \\frac{\\alpha (\\beta x + \\gamma) \\tan^{-1} (\\beta x + \\gamma)}{\\beta} + \\delta x + C')\n"
   ]
  },
  {
   "cell_type": "markdown",
   "metadata": {},
   "source": [
    "---"
   ]
  },
  {
   "cell_type": "markdown",
   "metadata": {},
   "source": [
    "## Current Tax Brackets"
   ]
  },
  {
   "cell_type": "markdown",
   "metadata": {},
   "source": []
  },
  {
   "cell_type": "markdown",
   "metadata": {},
   "source": [
    "**Individual**"
   ]
  },
  {
   "cell_type": "markdown",
   "metadata": {},
   "source": [
    "<table>\n",
    "    <tr>\n",
    "        <td>\n",
    "0 &#8806 x &lt 9,525\n",
    "        </td>\n",
    "        <td>\n",
    "10%\n",
    "        </td>\n",
    "    </tr>\n",
    "    <tr>\n",
    "        <td>\n",
    "9,525 &#8806 x &lt 38,700\n",
    "        </td>\n",
    "        <td>\n",
    "12%\n",
    "        </td>\n",
    "    </tr>\n",
    "    <tr>\n",
    "        <td>\n",
    "38,700 &#8806 x &lt 82,500\n",
    "        </td>\n",
    "        <td>\n",
    "22%\n",
    "        </td>\n",
    "    </tr>\n",
    "    <tr>\n",
    "        <td>\n",
    "82,500 &#8806 x &lt 157,500\n",
    "        </td>\n",
    "        <td>\n",
    "24%\n",
    "        </td>\n",
    "    </tr>\n",
    "    <tr>\n",
    "        <td>\n",
    "157,500 &#8806 x &lt 200,000\n",
    "        </td>\n",
    "        <td>\n",
    "32%\n",
    "        </td>\n",
    "    </tr>\n",
    "    <tr>\n",
    "        <td>\n",
    "200,000 &#8806 x &lt 500,000\n",
    "        </td>\n",
    "        <td>\n",
    "35%\n",
    "        </td>\n",
    "    </tr>\n",
    "    <tr>\n",
    "        <td>\n",
    "x > 500,000\n",
    "        </td>\n",
    "        <td>\n",
    "37%\n",
    "        </td>\n",
    "    </tr>\n",
    "</table>"
   ]
  },
  {
   "cell_type": "markdown",
   "metadata": {},
   "source": [
    "**Married filing separately**"
   ]
  },
  {
   "cell_type": "markdown",
   "metadata": {},
   "source": [
    "<table>\n",
    "    <tr>\n",
    "        <td>\n",
    "0 &#8806 x &lt 9,525\n",
    "        </td>\n",
    "        <td>\n",
    "10%\n",
    "        </td>\n",
    "    </tr>\n",
    "    <tr>\n",
    "        <td>\n",
    "9,525 &#8806 x &lt 38,700\n",
    "        </td>\n",
    "        <td>\n",
    "12%\n",
    "        </td>\n",
    "    </tr>\n",
    "    <tr>\n",
    "        <td>\n",
    "38,700 &#8806 x &lt 82,500\n",
    "        </td>\n",
    "        <td>\n",
    "22%\n",
    "        </td>\n",
    "    </tr>\n",
    "    <tr>\n",
    "        <td>\n",
    "82,500 &#8806 x &lt 157,500\n",
    "        </td>\n",
    "        <td>\n",
    "24%\n",
    "        </td>\n",
    "    </tr>\n",
    "    <tr>\n",
    "        <td>\n",
    "157,500 &#8806 x &lt 200,000\n",
    "        </td>\n",
    "        <td>\n",
    "32%\n",
    "        </td>\n",
    "    </tr>\n",
    "    <tr>\n",
    "        <td>\n",
    "200,000 &#8806 x &lt 300,000\n",
    "        </td>\n",
    "        <td>\n",
    "35%\n",
    "        </td>\n",
    "    </tr>\n",
    "    <tr>\n",
    "        <td>\n",
    "x > 300,000\n",
    "        </td>\n",
    "        <td>\n",
    "37%\n",
    "        </td>\n",
    "    </tr>\n",
    "</table>"
   ]
  },
  {
   "cell_type": "markdown",
   "metadata": {},
   "source": [
    "**Married filing jointly**"
   ]
  },
  {
   "cell_type": "markdown",
   "metadata": {},
   "source": [
    "<table>\n",
    "    <tr>\n",
    "        <td>\n",
    "0 &#8806 x &lt 19,050\n",
    "        </td>\n",
    "        <td>\n",
    "10%\n",
    "        </td>\n",
    "    </tr>\n",
    "    <tr>\n",
    "        <td>\n",
    "19,050 &#8806 x &lt 77,400\n",
    "        </td>\n",
    "        <td>\n",
    "12%\n",
    "        </td>\n",
    "    </tr>\n",
    "    <tr>\n",
    "        <td>\n",
    "77,400 &#8806 x &lt 165,000\n",
    "        </td>\n",
    "        <td>\n",
    "22%\n",
    "        </td>\n",
    "    </tr>\n",
    "    <tr>\n",
    "        <td>\n",
    "165,000 &#8806 x &lt 315,000\n",
    "        </td>\n",
    "        <td>\n",
    "24%\n",
    "        </td>\n",
    "    </tr>\n",
    "    <tr>\n",
    "        <td>\n",
    "315,000 &#8806 x &lt 400,000\n",
    "        </td>\n",
    "        <td>\n",
    "32%\n",
    "        </td>\n",
    "    </tr>\n",
    "    <tr>\n",
    "        <td>\n",
    "400,000 &#8806 x &lt 600,000\n",
    "        </td>\n",
    "        <td>\n",
    "35%\n",
    "        </td>\n",
    "    </tr>\n",
    "    <tr>\n",
    "        <td>\n",
    "x > 600,000\n",
    "        </td>\n",
    "        <td>\n",
    "37%\n",
    "        </td>\n",
    "    </tr>\n",
    "</table>"
   ]
  },
  {
   "cell_type": "markdown",
   "metadata": {},
   "source": [
    "**Head of Household**"
   ]
  },
  {
   "cell_type": "markdown",
   "metadata": {},
   "source": [
    "<table>\n",
    "    <tr>\n",
    "        <td>\n",
    "0 &#8806 x &lt 13,600\n",
    "        </td>\n",
    "        <td>\n",
    "10%\n",
    "        </td>\n",
    "    </tr>\n",
    "    <tr>\n",
    "        <td>\n",
    "13,600 &#8806 x &lt 51,800\n",
    "        </td>\n",
    "        <td>\n",
    "12%\n",
    "        </td>\n",
    "    </tr>\n",
    "    <tr>\n",
    "        <td>\n",
    "51,800 &#8806 x &lt 82,500\n",
    "        </td>\n",
    "        <td>\n",
    "22%\n",
    "        </td>\n",
    "    </tr>\n",
    "    <tr>\n",
    "        <td>\n",
    "82,500 &#8806 x &lt 157,500\n",
    "        </td>\n",
    "        <td>\n",
    "24%\n",
    "        </td>\n",
    "    </tr>\n",
    "    <tr>\n",
    "        <td>\n",
    "157,500 &#8806 x &lt 200,000\n",
    "        </td>\n",
    "        <td>\n",
    "32%\n",
    "        </td>\n",
    "    </tr>\n",
    "    <tr>\n",
    "        <td>\n",
    "200,000 &#8806 x &lt 500,000\n",
    "        </td>\n",
    "        <td>\n",
    "35%\n",
    "        </td>\n",
    "    </tr>\n",
    "    <tr>\n",
    "        <td>\n",
    "x > 500,000\n",
    "        </td>\n",
    "        <td>\n",
    "37%\n",
    "        </td>\n",
    "    </tr>\n",
    "</table>"
   ]
  },
  {
   "cell_type": "markdown",
   "metadata": {},
   "source": []
  },
  {
   "cell_type": "code",
   "execution_count": null,
   "metadata": {},
   "outputs": [],
   "source": []
  },
  {
   "cell_type": "markdown",
   "metadata": {},
   "source": []
  },
  {
   "cell_type": "markdown",
   "metadata": {},
   "source": [
    "---"
   ]
  },
  {
   "cell_type": "markdown",
   "metadata": {},
   "source": [
    "## Limitations"
   ]
  },
  {
   "cell_type": "markdown",
   "metadata": {},
   "source": []
  },
  {
   "cell_type": "markdown",
   "metadata": {},
   "source": [
    "### Political resistance"
   ]
  },
  {
   "cell_type": "markdown",
   "metadata": {},
   "source": []
  },
  {
   "cell_type": "markdown",
   "metadata": {},
   "source": [
    "### Incomprehensibility"
   ]
  },
  {
   "cell_type": "markdown",
   "metadata": {},
   "source": []
  },
  {
   "cell_type": "markdown",
   "metadata": {},
   "source": [
    "### Risk of unforseen outcome"
   ]
  },
  {
   "cell_type": "markdown",
   "metadata": {},
   "source": []
  },
  {
   "cell_type": "markdown",
   "metadata": {},
   "source": [
    "---\n",
    "---"
   ]
  },
  {
   "cell_type": "markdown",
   "metadata": {},
   "source": [
    "## Bibliography"
   ]
  },
  {
   "cell_type": "code",
   "execution_count": null,
   "metadata": {},
   "outputs": [],
   "source": []
  }
 ],
 "metadata": {
  "kernelspec": {
   "display_name": "Python 3",
   "language": "python",
   "name": "python3"
  },
  "language_info": {
   "codemirror_mode": {
    "name": "ipython",
    "version": 3
   },
   "file_extension": ".py",
   "mimetype": "text/x-python",
   "name": "python",
   "nbconvert_exporter": "python",
   "pygments_lexer": "ipython3",
   "version": "3.7.0"
  }
 },
 "nbformat": 4,
 "nbformat_minor": 2
}
